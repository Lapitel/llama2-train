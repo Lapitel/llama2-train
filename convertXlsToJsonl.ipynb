{
  "nbformat": 4,
  "nbformat_minor": 0,
  "metadata": {
    "colab": {
      "provenance": [],
      "authorship_tag": "ABX9TyOVxGCRWjakce+K7YBjgatg",
      "include_colab_link": true
    },
    "kernelspec": {
      "name": "python3",
      "display_name": "Python 3"
    },
    "language_info": {
      "name": "python"
    }
  },
  "cells": [
    {
      "cell_type": "markdown",
      "metadata": {
        "id": "view-in-github",
        "colab_type": "text"
      },
      "source": [
        "<a href=\"https://colab.research.google.com/github/Lapitel/llama2-train/blob/main/convertXlsToJsonl.ipynb\" target=\"_parent\"><img src=\"https://colab.research.google.com/assets/colab-badge.svg\" alt=\"Open In Colab\"/></a>"
      ]
    },
    {
      "cell_type": "code",
      "execution_count": 44,
      "metadata": {
        "id": "74eESxCCrfl7"
      },
      "outputs": [],
      "source": [
        "import os\n",
        "import openpyxl\n",
        "from bs4 import BeautifulSoup\n",
        "import json\n",
        "\n",
        "def getFileNames(directory):\n",
        "  fileNames = []\n",
        "  for root, dirs, files in os.walk(\".\"):\n",
        "    for file in files:\n",
        "      if file.endswith('.xlsx'):\n",
        "        path = os.path.join(root, file)\n",
        "        fileNames.append(path)\n",
        "  return fileNames\n",
        "\n",
        "def parseExcelToJsonl(jsonl, file):\n",
        "  # xlsx 파일 열기\n",
        "  wb = openpyxl.load_workbook(file)  # 'your_file.xlsx'에는 읽고자 하는 엑셀 파일의 경로가 들어가야 합니다.\n",
        "  sheet = wb.active\n",
        "\n",
        "  line  = {\"id\":\"\",\"instruction\":\"\", \"input\":\"\", \"output\":\"\"}\n",
        "  question = ''\n",
        "  answer = ''\n",
        "  irqa = ''\n",
        "  cnt = 0\n",
        "\n",
        "  for row in sheet.iter_rows(values_only=True):\n",
        "      if row[0] == '질문': continue\n",
        "      if row[0] != None:\n",
        "        question = row[0]\n",
        "        #html 태그 제거\n",
        "        soup = BeautifulSoup(row[1].replace('<br />','\\n'), 'html.parser')\n",
        "        answer = soup.get_text()\n",
        "\n",
        "        cnt+=1\n",
        "        line['id'] = \"irqa_\" + str(cnt)\n",
        "        line['instruction'] = question\n",
        "        line['output'] = answer\n",
        "        jsonl += str(json.dumps(line, ensure_ascii=False)) + '\\n'\n",
        "\n",
        "      if row[2] != None:\n",
        "        cnt+=1\n",
        "        irqa=row[2]\n",
        "        line['id'] = \"irqa_\" + str(cnt)\n",
        "        line['instruction'] = irqa\n",
        "        line['output'] = answer\n",
        "        # json_line = json.dumps(line, ensure_ascii=False)\n",
        "        # print(json_line)\n",
        "        jsonl += str(json.dumps(line, ensure_ascii=False)) + '\\n'\n",
        "\n",
        "  return jsonl\n",
        "\n",
        "\n",
        "fileNames = getFileNames('.')\n",
        "jsonl = ''\n",
        "for file in fileNames :\n",
        "  jsonl = parseExcelToJsonl(jsonl, file)\n",
        "# jsonl = parseExcelToJsonl(jsonl, fileNames[0])\n",
        "\n",
        "\n",
        "# jsonl 파일로 변환\n",
        "with open('irqa_datasets.jsonl', 'w') as f:\n",
        "    f.write(jsonl)"
      ]
    }
  ]
}